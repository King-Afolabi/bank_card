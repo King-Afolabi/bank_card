{
 "cells": [
  {
   "cell_type": "code",
   "execution_count": 76,
   "metadata": {},
   "outputs": [],
   "source": [
    "import pandas as pd\n",
    "import numpy as np\n",
    "import os\n",
    "from sklearn.model_selection import train_test_split\n",
    "import matplotlib.pyplot as plt\n",
    "from sklearn.ensemble import RandomForestClassifier\n",
    "from sklearn.pipeline import make_pipeline\n",
    "from sklearn.feature_selection import SelectKBest, f_classif\n",
    "\n",
    "from sklearn.metrics import classification_report, confusion_matrix\n",
    "from sklearn.metrics import precision_recall_curve\n",
    "\n",
    "from sklearn.model_selection import learning_curve\n",
    "import warnings\n",
    "warnings.filterwarnings('ignore')"
   ]
  },
  {
   "cell_type": "code",
   "execution_count": 52,
   "metadata": {},
   "outputs": [],
   "source": [
    "data = pd.read_csv('Dataset_1.csv', sep=';', na_values= 'Unknown')"
   ]
  },
  {
   "cell_type": "code",
   "execution_count": 53,
   "metadata": {},
   "outputs": [],
   "source": [
    "data.drop(\"CLIENTNUM\", axis=1, inplace=True)"
   ]
  },
  {
   "cell_type": "code",
   "execution_count": 54,
   "metadata": {},
   "outputs": [],
   "source": [
    "trainset, testset = train_test_split(data, test_size = 0.2, random_state = 0 )"
   ]
  },
  {
   "cell_type": "code",
   "execution_count": 55,
   "metadata": {},
   "outputs": [],
   "source": [
    "def encodage(dataframe):\n",
    "    code = {\n",
    "        'Attrited Customer':1, 'Existing Customer':0,\n",
    "        'F':0, 'M':1,\n",
    "        'Single':0, 'Married':1, 'Divorced':2, \n",
    "        'Less than $40K':0, '$40K - $60K':1,'$60K - $80K':2, '$80K - $120K':3, '$120K +':4,\n",
    "        'Blue':0, 'Silver':1, 'Gold':2, 'Platinum':3,\n",
    "        'Uneducated':0, 'College':1, 'High School':2, 'Graduate':3, 'Post-Graduate':4, 'Doctorate':5\n",
    "    }\n",
    "    for col in dataframe.select_dtypes('object').columns:\n",
    "        dataframe.loc[:,col] = dataframe[col].map(code)\n",
    "    \n",
    "    return dataframe"
   ]
  },
  {
   "cell_type": "code",
   "execution_count": 56,
   "metadata": {},
   "outputs": [],
   "source": [
    "def imputation(dataframe):\n",
    "    return dataframe.dropna(axis=0)"
   ]
  },
  {
   "cell_type": "code",
   "execution_count": 57,
   "metadata": {},
   "outputs": [],
   "source": [
    "def preprocessing(dataframe):\n",
    "    dataframe = encodage(dataframe)\n",
    "    dataframe = imputation(dataframe)\n",
    "    \n",
    "    X = dataframe.drop('Attrition_Flag', axis=1)\n",
    "    y = dataframe['Attrition_Flag']\n",
    "    \n",
    "    print(y.value_counts())\n",
    "    \n",
    "    return X,y"
   ]
  },
  {
   "cell_type": "code",
   "execution_count": 63,
   "metadata": {},
   "outputs": [
    {
     "name": "stdout",
     "output_type": "stream",
     "text": [
      "0    4764\n",
      "1     889\n",
      "Name: Attrition_Flag, dtype: int64\n"
     ]
    }
   ],
   "source": [
    "X_train, y_train = preprocessing(trainset)"
   ]
  },
  {
   "cell_type": "code",
   "execution_count": 64,
   "metadata": {},
   "outputs": [
    {
     "name": "stdout",
     "output_type": "stream",
     "text": [
      "0    1204\n",
      "1     224\n",
      "Name: Attrition_Flag, dtype: int64\n"
     ]
    }
   ],
   "source": [
    "X_test, y_test = preprocessing(testset)"
   ]
  },
  {
   "cell_type": "code",
   "execution_count": 98,
   "metadata": {},
   "outputs": [
    {
     "data": {
      "text/html": [
       "<div>\n",
       "<style scoped>\n",
       "    .dataframe tbody tr th:only-of-type {\n",
       "        vertical-align: middle;\n",
       "    }\n",
       "\n",
       "    .dataframe tbody tr th {\n",
       "        vertical-align: top;\n",
       "    }\n",
       "\n",
       "    .dataframe thead th {\n",
       "        text-align: right;\n",
       "    }\n",
       "</style>\n",
       "<table border=\"1\" class=\"dataframe\">\n",
       "  <thead>\n",
       "    <tr style=\"text-align: right;\">\n",
       "      <th></th>\n",
       "      <th>Customer_Age</th>\n",
       "      <th>Gender</th>\n",
       "      <th>Dependent_count</th>\n",
       "      <th>Education_Level</th>\n",
       "      <th>Marital_Status</th>\n",
       "      <th>Income_Category</th>\n",
       "      <th>Card_Category</th>\n",
       "      <th>Months_on_book</th>\n",
       "      <th>Total_Relationship_Count</th>\n",
       "      <th>Months_Inactive_12_mon</th>\n",
       "      <th>Contacts_Count_12_mon</th>\n",
       "      <th>Credit_Limit</th>\n",
       "      <th>Total_Revolving_Bal</th>\n",
       "      <th>Avg_Open_To_Buy</th>\n",
       "      <th>Total_Amt_Chng_Q4_Q1</th>\n",
       "      <th>Total_Trans_Amt</th>\n",
       "      <th>Total_Trans_Ct</th>\n",
       "      <th>Total_Ct_Chng_Q4_Q1</th>\n",
       "      <th>Avg_Utilization_Ratio</th>\n",
       "    </tr>\n",
       "  </thead>\n",
       "  <tbody>\n",
       "    <tr>\n",
       "      <th>3358</th>\n",
       "      <td>44</td>\n",
       "      <td>1</td>\n",
       "      <td>5</td>\n",
       "      <td>0.0</td>\n",
       "      <td>2.0</td>\n",
       "      <td>2.0</td>\n",
       "      <td>0</td>\n",
       "      <td>39</td>\n",
       "      <td>5</td>\n",
       "      <td>2</td>\n",
       "      <td>0</td>\n",
       "      <td>16034.0</td>\n",
       "      <td>1597</td>\n",
       "      <td>14437.0</td>\n",
       "      <td>0.775</td>\n",
       "      <td>3628</td>\n",
       "      <td>59</td>\n",
       "      <td>0.903</td>\n",
       "      <td>0.1</td>\n",
       "    </tr>\n",
       "  </tbody>\n",
       "</table>\n",
       "</div>"
      ],
      "text/plain": [
       "      Customer_Age  Gender  Dependent_count  Education_Level  Marital_Status  \\\n",
       "3358            44       1                5              0.0             2.0   \n",
       "\n",
       "      Income_Category  Card_Category  Months_on_book  \\\n",
       "3358              2.0              0              39   \n",
       "\n",
       "      Total_Relationship_Count  Months_Inactive_12_mon  Contacts_Count_12_mon  \\\n",
       "3358                         5                       2                      0   \n",
       "\n",
       "      Credit_Limit  Total_Revolving_Bal  Avg_Open_To_Buy  \\\n",
       "3358       16034.0                 1597          14437.0   \n",
       "\n",
       "      Total_Amt_Chng_Q4_Q1  Total_Trans_Amt  Total_Trans_Ct  \\\n",
       "3358                 0.775             3628              59   \n",
       "\n",
       "      Total_Ct_Chng_Q4_Q1  Avg_Utilization_Ratio  \n",
       "3358                0.903                    0.1  "
      ]
     },
     "execution_count": 98,
     "metadata": {},
     "output_type": "execute_result"
    }
   ],
   "source": [
    "X_test.iloc[0:1,:]"
   ]
  },
  {
   "cell_type": "code",
   "execution_count": 68,
   "metadata": {},
   "outputs": [],
   "source": [
    "def evaluation (model) :\n",
    "    model.fit(X_train, y_train)\n",
    "    ypred = model.predict(X_test)\n",
    "    print(confusion_matrix(y_test, ypred))\n",
    "    print(classification_report(y_test, ypred))\n",
    "    \n",
    "    \n",
    "    N, train_score, val_score = learning_curve(model ,X_train, y_train, \n",
    "                                               cv=4, scoring = 'f1',\n",
    "                                               train_sizes= np.linspace(0.1, 1, 10))\n",
    "#     plt.figure(figsize = (15,10))\n",
    "#     plt.plot(N, train_score.mean(axis=1), label='train score')\n",
    "#     plt.plot(N, val_score.mean(axis=1), label='validation score')\n",
    "#     plt.legend()"
   ]
  },
  {
   "cell_type": "code",
   "execution_count": 61,
   "metadata": {},
   "outputs": [],
   "source": [
    "model_1 = make_pipeline(SelectKBest(f_classif, k=9),RandomForestClassifier(random_state=0))"
   ]
  },
  {
   "cell_type": "code",
   "execution_count": 67,
   "metadata": {},
   "outputs": [
    {
     "name": "stdout",
     "output_type": "stream",
     "text": [
      "[[1182   22]\n",
      " [  37  187]]\n",
      "              precision    recall  f1-score   support\n",
      "\n",
      "           0       0.97      0.98      0.98      1204\n",
      "           1       0.89      0.83      0.86       224\n",
      "\n",
      "    accuracy                           0.96      1428\n",
      "   macro avg       0.93      0.91      0.92      1428\n",
      "weighted avg       0.96      0.96      0.96      1428\n",
      "\n"
     ]
    },
    {
     "data": {
      "image/png": "[encoded data removed]",
      "text/plain": [
       "<Figure size 1080x720 with 1 Axes>"
      ]
     },
     "metadata": {
      "needs_background": "light"
     },
     "output_type": "display_data"
    }
   ],
   "source": [
    "evaluation(model_1)"
   ]
  },
  {
   "cell_type": "code",
   "execution_count": 140,
   "metadata": {},
   "outputs": [],
   "source": [
    "def model_final (model, X) :\n",
    "    y = model.predict(X)\n",
    "    if y == 0 :\n",
    "        print(\"Le client n'a pas une envie d'ailleurs\")\n",
    "    else :\n",
    "        print(\"!!! Attention !!! Le client est sur le point de départ\")\n",
    "    return "
   ]
  },
  {
   "cell_type": "code",
   "execution_count": 147,
   "metadata": {},
   "outputs": [],
   "source": [
    "precision, recall, threshold = precision_recall_curve(y_test, model_1.predict(X_test))"
   ]
  },
  {
   "cell_type": "code",
   "execution_count": 148,
   "metadata": {},
   "outputs": [
    {
     "data": {
      "text/plain": [
       "<matplotlib.legend.Legend at 0x1af8165bf40>"
      ]
     },
     "execution_count": 148,
     "metadata": {},
     "output_type": "execute_result"
    },
    {
     "data": {
      "image/png": "[encoded data removed]",
      "text/plain": [
       "<Figure size 432x288 with 1 Axes>"
      ]
     },
     "metadata": {
      "needs_background": "light"
     },
     "output_type": "display_data"
    }
   ],
   "source": [
    "plt.plot(threshold, precision[:-1], label='precision')\n",
    "plt.plot(threshold, recall[:-1], label='recall')\n",
    "plt.legend()"
   ]
  },
  {
   "cell_type": "code",
   "execution_count": null,
   "metadata": {},
   "outputs": [],
   "source": []
  },
  {
   "cell_type": "code",
   "execution_count": 163,
   "metadata": {},
   "outputs": [
    {
     "name": "stdout",
     "output_type": "stream",
     "text": [
      "Le client n'a pas une envie d'ailleurs\n",
      "Le client n'a pas une envie d'ailleurs\n",
      "Le client n'a pas une envie d'ailleurs\n",
      "Le client n'a pas une envie d'ailleurs\n",
      "Le client n'a pas une envie d'ailleurs\n",
      "Le client n'a pas une envie d'ailleurs\n",
      "Le client n'a pas une envie d'ailleurs\n",
      "Le client n'a pas une envie d'ailleurs\n",
      "Le client n'a pas une envie d'ailleurs\n",
      "Le client n'a pas une envie d'ailleurs\n",
      "Le client n'a pas une envie d'ailleurs\n",
      "!!! Attention !!! Le client est sur le point de départ\n",
      "Le client n'a pas une envie d'ailleurs\n",
      "Le client n'a pas une envie d'ailleurs\n",
      "Le client n'a pas une envie d'ailleurs\n",
      "Le client n'a pas une envie d'ailleurs\n",
      "Le client n'a pas une envie d'ailleurs\n",
      "Le client n'a pas une envie d'ailleurs\n",
      "Le client n'a pas une envie d'ailleurs\n",
      "Le client n'a pas une envie d'ailleurs\n",
      "Le client n'a pas une envie d'ailleurs\n",
      "Le client n'a pas une envie d'ailleurs\n",
      "Le client n'a pas une envie d'ailleurs\n",
      "!!! Attention !!! Le client est sur le point de départ\n",
      "Le client n'a pas une envie d'ailleurs\n",
      "!!! Attention !!! Le client est sur le point de départ\n",
      "Le client n'a pas une envie d'ailleurs\n",
      "Le client n'a pas une envie d'ailleurs\n",
      "Le client n'a pas une envie d'ailleurs\n",
      "Le client n'a pas une envie d'ailleurs\n",
      "Le client n'a pas une envie d'ailleurs\n",
      "Le client n'a pas une envie d'ailleurs\n",
      "Le client n'a pas une envie d'ailleurs\n",
      "Le client n'a pas une envie d'ailleurs\n",
      "Le client n'a pas une envie d'ailleurs\n",
      "!!! Attention !!! Le client est sur le point de départ\n",
      "Le client n'a pas une envie d'ailleurs\n",
      "!!! Attention !!! Le client est sur le point de départ\n",
      "Le client n'a pas une envie d'ailleurs\n",
      "Le client n'a pas une envie d'ailleurs\n",
      "Le client n'a pas une envie d'ailleurs\n",
      "Le client n'a pas une envie d'ailleurs\n",
      "Le client n'a pas une envie d'ailleurs\n",
      "Le client n'a pas une envie d'ailleurs\n",
      "Le client n'a pas une envie d'ailleurs\n",
      "Le client n'a pas une envie d'ailleurs\n",
      "Le client n'a pas une envie d'ailleurs\n",
      "Le client n'a pas une envie d'ailleurs\n",
      "Le client n'a pas une envie d'ailleurs\n",
      "Le client n'a pas une envie d'ailleurs\n",
      "!!! Attention !!! Le client est sur le point de départ\n",
      "Le client n'a pas une envie d'ailleurs\n",
      "Le client n'a pas une envie d'ailleurs\n",
      "Le client n'a pas une envie d'ailleurs\n",
      "Le client n'a pas une envie d'ailleurs\n",
      "!!! Attention !!! Le client est sur le point de départ\n",
      "Le client n'a pas une envie d'ailleurs\n",
      "Le client n'a pas une envie d'ailleurs\n",
      "Le client n'a pas une envie d'ailleurs\n",
      "Le client n'a pas une envie d'ailleurs\n",
      "Le client n'a pas une envie d'ailleurs\n",
      "Le client n'a pas une envie d'ailleurs\n",
      "Le client n'a pas une envie d'ailleurs\n",
      "Le client n'a pas une envie d'ailleurs\n",
      "Le client n'a pas une envie d'ailleurs\n",
      "Le client n'a pas une envie d'ailleurs\n",
      "!!! Attention !!! Le client est sur le point de départ\n",
      "Le client n'a pas une envie d'ailleurs\n",
      "!!! Attention !!! Le client est sur le point de départ\n",
      "Le client n'a pas une envie d'ailleurs\n",
      "Le client n'a pas une envie d'ailleurs\n",
      "Le client n'a pas une envie d'ailleurs\n",
      "Le client n'a pas une envie d'ailleurs\n",
      "Le client n'a pas une envie d'ailleurs\n",
      "Le client n'a pas une envie d'ailleurs\n",
      "Le client n'a pas une envie d'ailleurs\n",
      "Le client n'a pas une envie d'ailleurs\n",
      "Le client n'a pas une envie d'ailleurs\n",
      "Le client n'a pas une envie d'ailleurs\n",
      "!!! Attention !!! Le client est sur le point de départ\n",
      "Le client n'a pas une envie d'ailleurs\n",
      "Le client n'a pas une envie d'ailleurs\n",
      "Le client n'a pas une envie d'ailleurs\n",
      "Le client n'a pas une envie d'ailleurs\n",
      "!!! Attention !!! Le client est sur le point de départ\n",
      "Le client n'a pas une envie d'ailleurs\n",
      "Le client n'a pas une envie d'ailleurs\n",
      "Le client n'a pas une envie d'ailleurs\n",
      "Le client n'a pas une envie d'ailleurs\n",
      "Le client n'a pas une envie d'ailleurs\n",
      "Le client n'a pas une envie d'ailleurs\n",
      "Le client n'a pas une envie d'ailleurs\n",
      "Le client n'a pas une envie d'ailleurs\n",
      "Le client n'a pas une envie d'ailleurs\n",
      "!!! Attention !!! Le client est sur le point de départ\n",
      "Le client n'a pas une envie d'ailleurs\n",
      "Le client n'a pas une envie d'ailleurs\n",
      "Le client n'a pas une envie d'ailleurs\n",
      "Le client n'a pas une envie d'ailleurs\n",
      "Le client n'a pas une envie d'ailleurs\n",
      "!!! Attention !!! Le client est sur le point de départ\n",
      "Le client n'a pas une envie d'ailleurs\n",
      "Le client n'a pas une envie d'ailleurs\n",
      "Le client n'a pas une envie d'ailleurs\n",
      "!!! Attention !!! Le client est sur le point de départ\n",
      "Le client n'a pas une envie d'ailleurs\n",
      "Le client n'a pas une envie d'ailleurs\n",
      "!!! Attention !!! Le client est sur le point de départ\n",
      "Le client n'a pas une envie d'ailleurs\n",
      "Le client n'a pas une envie d'ailleurs\n",
      "!!! Attention !!! Le client est sur le point de départ\n",
      "Le client n'a pas une envie d'ailleurs\n",
      "Le client n'a pas une envie d'ailleurs\n",
      "Le client n'a pas une envie d'ailleurs\n",
      "!!! Attention !!! Le client est sur le point de départ\n",
      "Le client n'a pas une envie d'ailleurs\n",
      "!!! Attention !!! Le client est sur le point de départ\n",
      "!!! Attention !!! Le client est sur le point de départ\n",
      "Le client n'a pas une envie d'ailleurs\n",
      "Le client n'a pas une envie d'ailleurs\n",
      "Le client n'a pas une envie d'ailleurs\n",
      "Le client n'a pas une envie d'ailleurs\n",
      "Le client n'a pas une envie d'ailleurs\n",
      "Le client n'a pas une envie d'ailleurs\n",
      "Le client n'a pas une envie d'ailleurs\n",
      "Le client n'a pas une envie d'ailleurs\n",
      "!!! Attention !!! Le client est sur le point de départ\n",
      "Le client n'a pas une envie d'ailleurs\n",
      "Le client n'a pas une envie d'ailleurs\n",
      "Le client n'a pas une envie d'ailleurs\n",
      "Le client n'a pas une envie d'ailleurs\n",
      "Le client n'a pas une envie d'ailleurs\n",
      "!!! Attention !!! Le client est sur le point de départ\n",
      "!!! Attention !!! Le client est sur le point de départ\n",
      "Le client n'a pas une envie d'ailleurs\n",
      "Le client n'a pas une envie d'ailleurs\n",
      "Le client n'a pas une envie d'ailleurs\n",
      "Le client n'a pas une envie d'ailleurs\n",
      "Le client n'a pas une envie d'ailleurs\n",
      "!!! Attention !!! Le client est sur le point de départ\n",
      "Le client n'a pas une envie d'ailleurs\n",
      "Le client n'a pas une envie d'ailleurs\n",
      "Le client n'a pas une envie d'ailleurs\n",
      "Le client n'a pas une envie d'ailleurs\n",
      "Le client n'a pas une envie d'ailleurs\n",
      "Le client n'a pas une envie d'ailleurs\n",
      "Le client n'a pas une envie d'ailleurs\n",
      "Le client n'a pas une envie d'ailleurs\n",
      "Le client n'a pas une envie d'ailleurs\n",
      "Le client n'a pas une envie d'ailleurs\n",
      "Le client n'a pas une envie d'ailleurs\n",
      "Le client n'a pas une envie d'ailleurs\n",
      "Le client n'a pas une envie d'ailleurs\n",
      "Le client n'a pas une envie d'ailleurs\n",
      "Le client n'a pas une envie d'ailleurs\n",
      "Le client n'a pas une envie d'ailleurs\n",
      "Le client n'a pas une envie d'ailleurs\n",
      "!!! Attention !!! Le client est sur le point de départ\n",
      "Le client n'a pas une envie d'ailleurs\n",
      "!!! Attention !!! Le client est sur le point de départ\n",
      "Le client n'a pas une envie d'ailleurs\n",
      "Le client n'a pas une envie d'ailleurs\n",
      "Le client n'a pas une envie d'ailleurs\n",
      "Le client n'a pas une envie d'ailleurs\n",
      "Le client n'a pas une envie d'ailleurs\n",
      "Le client n'a pas une envie d'ailleurs\n",
      "Le client n'a pas une envie d'ailleurs\n",
      "Le client n'a pas une envie d'ailleurs\n",
      "Le client n'a pas une envie d'ailleurs\n",
      "Le client n'a pas une envie d'ailleurs\n",
      "Le client n'a pas une envie d'ailleurs\n",
      "Le client n'a pas une envie d'ailleurs\n",
      "!!! Attention !!! Le client est sur le point de départ\n",
      "Le client n'a pas une envie d'ailleurs\n",
      "!!! Attention !!! Le client est sur le point de départ\n",
      "Le client n'a pas une envie d'ailleurs\n",
      "Le client n'a pas une envie d'ailleurs\n",
      "Le client n'a pas une envie d'ailleurs\n",
      "Le client n'a pas une envie d'ailleurs\n",
      "Le client n'a pas une envie d'ailleurs\n",
      "Le client n'a pas une envie d'ailleurs\n",
      "Le client n'a pas une envie d'ailleurs\n",
      "Le client n'a pas une envie d'ailleurs\n",
      "!!! Attention !!! Le client est sur le point de départ\n",
      "!!! Attention !!! Le client est sur le point de départ\n",
      "Le client n'a pas une envie d'ailleurs\n",
      "Le client n'a pas une envie d'ailleurs\n",
      "Le client n'a pas une envie d'ailleurs\n",
      "Le client n'a pas une envie d'ailleurs\n",
      "Le client n'a pas une envie d'ailleurs\n",
      "Le client n'a pas une envie d'ailleurs\n",
      "!!! Attention !!! Le client est sur le point de départ\n",
      "Le client n'a pas une envie d'ailleurs\n",
      "!!! Attention !!! Le client est sur le point de départ\n",
      "Le client n'a pas une envie d'ailleurs\n",
      "Le client n'a pas une envie d'ailleurs\n",
      "Le client n'a pas une envie d'ailleurs\n",
      "Le client n'a pas une envie d'ailleurs\n",
      "Le client n'a pas une envie d'ailleurs\n",
      "Le client n'a pas une envie d'ailleurs\n"
     ]
    }
   ],
   "source": [
    "for i in range(1,1000, 5) :\n",
    "    \n",
    "    y_pred = model_final(model_1,X_test.iloc[i:i+1,:])\n",
    "    y_pred"
   ]
  },
  {
   "cell_type": "code",
   "execution_count": null,
   "metadata": {},
   "outputs": [],
   "source": [
    "# Local URL: http://localhost:8501\n",
    "#   Network URL: http://10.10.20.39:8501"
   ]
  }
 ],
 "metadata": {
  "kernelspec": {
   "display_name": "Python 3",
   "language": "python",
   "name": "python3"
  },
  "language_info": {
   "codemirror_mode": {
    "name": "ipython",
    "version": 3
   },
   "file_extension": ".py",
   "mimetype": "text/x-python",
   "name": "python",
   "nbconvert_exporter": "python",
   "pygments_lexer": "ipython3",
   "version": "3.8.5"
  }
 },
 "nbformat": 4,
 "nbformat_minor": 4
}
